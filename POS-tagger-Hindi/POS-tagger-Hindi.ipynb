{
 "cells": [
  {
   "cell_type": "code",
   "execution_count": 1,
   "metadata": {},
   "outputs": [],
   "source": [
    "import codecs"
   ]
  },
  {
   "cell_type": "code",
   "execution_count": 2,
   "metadata": {},
   "outputs": [],
   "source": [
    "with codecs.open('hindi.txt', encoding='utf-8') as f:\n",
    "    text = f.read()"
   ]
  },
  {
   "cell_type": "code",
   "execution_count": 3,
   "metadata": {},
   "outputs": [],
   "source": [
    "import nltk"
   ]
  },
  {
   "cell_type": "code",
   "execution_count": 4,
   "metadata": {},
   "outputs": [],
   "source": [
    "from nltk.tag import tnt\n",
    "from nltk.corpus import indian\n",
    "from nltk.tokenize import word_tokenize"
   ]
  },
  {
   "cell_type": "code",
   "execution_count": 5,
   "metadata": {},
   "outputs": [],
   "source": [
    "train_data = indian.tagged_sents('hindi.pos')"
   ]
  },
  {
   "cell_type": "code",
   "execution_count": 6,
   "metadata": {},
   "outputs": [],
   "source": [
    "tnt_pos_tagger = tnt.TnT()"
   ]
  },
  {
   "cell_type": "code",
   "execution_count": 7,
   "metadata": {},
   "outputs": [],
   "source": [
    "tnt_pos_tagger.train(train_data)"
   ]
  },
  {
   "cell_type": "code",
   "execution_count": 8,
   "metadata": {},
   "outputs": [],
   "source": [
    "temp = nltk.word_tokenize(text)"
   ]
  },
  {
   "cell_type": "code",
   "execution_count": 9,
   "metadata": {},
   "outputs": [],
   "source": [
    "tagged_words = (tnt_pos_tagger.tag(temp))"
   ]
  },
  {
   "cell_type": "code",
   "execution_count": 10,
   "metadata": {},
   "outputs": [
    {
     "name": "stdout",
     "output_type": "stream",
     "text": [
      "[('सर्दियों', 'Unk'), ('के', 'PREP'), ('दिन', 'NN'), ('थे', 'VFM'), ('अकबर', 'Unk'), ('का', 'PREP'), ('दरबार', 'Unk'), ('लगा', 'VFM'), ('हुआ', 'VAUX'), ('था', 'VAUX'), ('तभी', 'RB'), ('फारस', 'Unk'), ('राजा', 'NN'), ('भेजा', 'Unk'), ('एक', 'QFNUM'), ('दूत', 'Unk'), ('में', 'PREP'), ('उपस्थित', 'Unk'), ('हुआ', 'VFM'), ('को', 'PREP'), ('नीचा', 'Unk'), ('दिखाने', 'Unk'), ('लिए', 'PREP'), ('ने', 'PREP'), ('मोम', 'Unk'), ('से', 'PREP'), ('बना', 'VFM'), ('शेर', 'Unk'), ('पुतला', 'Unk'), ('बनवाया', 'Unk'), ('था', 'VAUX'), ('और', 'CC'), ('उसे', 'PRP'), ('पिंजरे', 'Unk'), ('बंद', 'NVB'), ('कर', 'VFM'), ('हाथों', 'PREP'), ('भिजवाया', 'Unk'), ('उन्हे', 'Unk'), ('चुनौती', 'NN'), ('दी', 'VFM'), ('की', 'PREP'), ('इस', 'PRP'), ('पिंजरा', 'Unk'), ('खोले', 'Unk'), ('बिना', 'NEG'), ('बाहर', 'NLOC'), ('निकाल', 'Unk'), ('दिखाएं', 'Unk'), ('बीरबल', 'Unk'), ('अनुपस्थिति', 'Unk'), ('कारण', 'PREP'), ('सोच', 'Unk'), ('पड़', 'VFM'), ('गए', 'VAUX'), ('अब', 'RB'), ('समस्या', 'NN'), ('कैसे', 'Unk'), ('सुलझाया', 'Unk'), ('जाए', 'VAUX'), ('सोचा', 'Unk'), ('कि', 'CC'), ('अगर', 'Unk'), ('हुई', 'VFM'), ('पार', 'NNC'), ('नहीं', 'NEG'), ('गयी', 'Unk'), ('तो', 'RP'), ('जग', 'Unk'), ('हसायी', 'Unk'), ('होग', 'Unk'), ('इतने', 'Unk'), ('ही', 'RP'), ('परम', 'Unk'), ('चतुर', 'Unk'), ('ज्ञान', 'Unk'), ('गुणवान', 'Unk'), ('आ', 'VFM'), ('गए।', 'Unk'), ('उन्होने', 'Unk'), ('मामला', 'NN'), ('हाथ', 'NN'), ('ले', 'VFM'), ('लिया', 'VAUX'), ('गरम', 'Unk'), ('सरिया', 'Unk'), ('मंगवाया', 'Unk'), ('कैद', 'Unk'), ('पिघला', 'Unk'), ('डाला', 'VAUX'), ('देखते', 'VJJ'), ('पिघल', 'Unk'), ('निकल', 'Unk'), ('गया', 'VAUX'), ('अपने', 'PRP'), ('सलाहकार', 'NN'), ('चतुराई', 'Unk'), ('काफी', 'INTF'), ('प्रसन्न', 'NNPC'), ('हुए', 'VAUX'), ('फिर', 'RB'), ('कभी', 'RB'), ('दी', 'VFM')]\n"
     ]
    }
   ],
   "source": [
    "print(tagged_words)"
   ]
  },
  {
   "cell_type": "code",
   "execution_count": null,
   "metadata": {},
   "outputs": [],
   "source": []
  }
 ],
 "metadata": {
  "kernelspec": {
   "display_name": "Python 3",
   "language": "python",
   "name": "python3"
  },
  "language_info": {
   "codemirror_mode": {
    "name": "ipython",
    "version": 3
   },
   "file_extension": ".py",
   "mimetype": "text/x-python",
   "name": "python",
   "nbconvert_exporter": "python",
   "pygments_lexer": "ipython3",
   "version": "3.6.7"
  }
 },
 "nbformat": 4,
 "nbformat_minor": 2
}
