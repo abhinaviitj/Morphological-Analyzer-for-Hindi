{
 "cells": [
  {
   "cell_type": "code",
   "execution_count": 1,
   "metadata": {},
   "outputs": [],
   "source": [
    "from urllib.request import urlopen\n",
    "from bs4 import BeautifulSoup\n",
    "import re"
   ]
  },
  {
   "cell_type": "code",
   "execution_count": 2,
   "metadata": {},
   "outputs": [],
   "source": [
    "url = \"https://en.wiktionary.org/wiki/Category:Hindi_lemmas\"\n",
    "flag = 0\n",
    "f = open(\"root_word_database.txt\", \"w+\")\n",
    "while flag == 0 :\n",
    "    \n",
    "    html = urlopen(url)\n",
    "    bs = BeautifulSoup(html, \"lxml\")\n",
    "    \n",
    "    links = bs.find(\"div\",{\"id\":\"bodyContent\"}).findAll(\"a\", href=re.compile(\"(/wiki/%)+([A-Za-z0-9_:()])+%\"))\n",
    "    for link in links :\n",
    "        f.write(link['title']+\"\\n\")\n",
    "\n",
    "    temps = bs.find(\"div\",{\"id\":\"bodyContent\"}).findAll(\"a\", href=re.compile(\"(/w/index)+.*\"))\n",
    "    for temp in temps :\n",
    "        check_next = 0\n",
    "        if \"next page\" in temp :\n",
    "            check_next = 1\n",
    "            url = \"https://en.wiktionary.org\" + temp['href']\n",
    "            break\n",
    "    if check_next == 0 :\n",
    "        break\n",
    "\n",
    "f.close()"
   ]
  }
 ],
 "metadata": {
  "kernelspec": {
   "display_name": "Python 3",
   "language": "python",
   "name": "python3"
  },
  "language_info": {
   "codemirror_mode": {
    "name": "ipython",
    "version": 3
   },
   "file_extension": ".py",
   "mimetype": "text/x-python",
   "name": "python",
   "nbconvert_exporter": "python",
   "pygments_lexer": "ipython3",
   "version": "3.6.7"
  }
 },
 "nbformat": 4,
 "nbformat_minor": 2
}
